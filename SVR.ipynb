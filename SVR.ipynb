{
 "cells": [
  {
   "cell_type": "markdown",
   "id": "00150654-952d-460f-8a38-98155a1e60e0",
   "metadata": {},
   "source": [
    "# Support Vector Regression"
   ]
  },
  {
   "cell_type": "code",
   "execution_count": 1,
   "id": "fbfa84af-291d-49d2-8afa-4797b0dfd142",
   "metadata": {},
   "outputs": [
    {
     "data": {
      "text/html": [
       "<div>\n",
       "<style scoped>\n",
       "    .dataframe tbody tr th:only-of-type {\n",
       "        vertical-align: middle;\n",
       "    }\n",
       "\n",
       "    .dataframe tbody tr th {\n",
       "        vertical-align: top;\n",
       "    }\n",
       "\n",
       "    .dataframe thead th {\n",
       "        text-align: right;\n",
       "    }\n",
       "</style>\n",
       "<table border=\"1\" class=\"dataframe\">\n",
       "  <thead>\n",
       "    <tr style=\"text-align: right;\">\n",
       "      <th></th>\n",
       "      <th>Data e Hora</th>\n",
       "      <th>Hora</th>\n",
       "      <th>Mês</th>\n",
       "      <th>Temp. Ins. (C)</th>\n",
       "      <th>Temp. Max. (C)</th>\n",
       "      <th>Temp. Min. (C)</th>\n",
       "      <th>Umi. Ins. (%)</th>\n",
       "      <th>Umi. Max. (%)</th>\n",
       "      <th>Umi. Min. (%)</th>\n",
       "      <th>Pto Orvalho Ins. (C)</th>\n",
       "      <th>...</th>\n",
       "      <th>Pto Orvalho Min. (C)</th>\n",
       "      <th>Pressao Ins. (hPa)</th>\n",
       "      <th>Pressao Max. (hPa)</th>\n",
       "      <th>Pressao Min. (hPa)</th>\n",
       "      <th>Vel. Vento (m/s)</th>\n",
       "      <th>Dir. Vento (m/s)</th>\n",
       "      <th>Raj. Vento (m/s)</th>\n",
       "      <th>Radiacao (KJ/m²)</th>\n",
       "      <th>Chuva (mm)</th>\n",
       "      <th>Potência CA (W)</th>\n",
       "    </tr>\n",
       "  </thead>\n",
       "  <tbody>\n",
       "    <tr>\n",
       "      <th>0</th>\n",
       "      <td>2019-01-06 06:00:00</td>\n",
       "      <td>6</td>\n",
       "      <td>1</td>\n",
       "      <td>23.2</td>\n",
       "      <td>23.7</td>\n",
       "      <td>23.2</td>\n",
       "      <td>89.0</td>\n",
       "      <td>89.0</td>\n",
       "      <td>89.0</td>\n",
       "      <td>21.4</td>\n",
       "      <td>...</td>\n",
       "      <td>21.4</td>\n",
       "      <td>982.4</td>\n",
       "      <td>982.5</td>\n",
       "      <td>982.1</td>\n",
       "      <td>3.8</td>\n",
       "      <td>224.0</td>\n",
       "      <td>5.5</td>\n",
       "      <td>2.8</td>\n",
       "      <td>0.0</td>\n",
       "      <td>143.583333</td>\n",
       "    </tr>\n",
       "    <tr>\n",
       "      <th>1</th>\n",
       "      <td>2019-01-06 07:00:00</td>\n",
       "      <td>7</td>\n",
       "      <td>1</td>\n",
       "      <td>24.0</td>\n",
       "      <td>24.0</td>\n",
       "      <td>23.2</td>\n",
       "      <td>89.0</td>\n",
       "      <td>89.0</td>\n",
       "      <td>89.0</td>\n",
       "      <td>22.1</td>\n",
       "      <td>...</td>\n",
       "      <td>21.4</td>\n",
       "      <td>983.3</td>\n",
       "      <td>983.3</td>\n",
       "      <td>982.3</td>\n",
       "      <td>4.0</td>\n",
       "      <td>224.0</td>\n",
       "      <td>6.8</td>\n",
       "      <td>314.2</td>\n",
       "      <td>0.0</td>\n",
       "      <td>385.333333</td>\n",
       "    </tr>\n",
       "    <tr>\n",
       "      <th>2</th>\n",
       "      <td>2019-01-06 08:00:00</td>\n",
       "      <td>8</td>\n",
       "      <td>1</td>\n",
       "      <td>25.9</td>\n",
       "      <td>25.9</td>\n",
       "      <td>24.0</td>\n",
       "      <td>86.0</td>\n",
       "      <td>89.0</td>\n",
       "      <td>86.0</td>\n",
       "      <td>23.3</td>\n",
       "      <td>...</td>\n",
       "      <td>22.1</td>\n",
       "      <td>983.8</td>\n",
       "      <td>983.8</td>\n",
       "      <td>983.3</td>\n",
       "      <td>4.0</td>\n",
       "      <td>215.0</td>\n",
       "      <td>6.5</td>\n",
       "      <td>1204.2</td>\n",
       "      <td>0.0</td>\n",
       "      <td>674.916667</td>\n",
       "    </tr>\n",
       "    <tr>\n",
       "      <th>3</th>\n",
       "      <td>2019-01-06 09:00:00</td>\n",
       "      <td>9</td>\n",
       "      <td>1</td>\n",
       "      <td>27.2</td>\n",
       "      <td>27.3</td>\n",
       "      <td>25.9</td>\n",
       "      <td>82.0</td>\n",
       "      <td>86.0</td>\n",
       "      <td>82.0</td>\n",
       "      <td>24.0</td>\n",
       "      <td>...</td>\n",
       "      <td>23.3</td>\n",
       "      <td>984.1</td>\n",
       "      <td>984.1</td>\n",
       "      <td>983.8</td>\n",
       "      <td>3.9</td>\n",
       "      <td>189.0</td>\n",
       "      <td>6.7</td>\n",
       "      <td>1621.1</td>\n",
       "      <td>0.0</td>\n",
       "      <td>1116.166667</td>\n",
       "    </tr>\n",
       "    <tr>\n",
       "      <th>4</th>\n",
       "      <td>2019-01-06 10:00:00</td>\n",
       "      <td>10</td>\n",
       "      <td>1</td>\n",
       "      <td>27.9</td>\n",
       "      <td>28.1</td>\n",
       "      <td>27.2</td>\n",
       "      <td>78.0</td>\n",
       "      <td>83.0</td>\n",
       "      <td>78.0</td>\n",
       "      <td>23.7</td>\n",
       "      <td>...</td>\n",
       "      <td>23.7</td>\n",
       "      <td>984.4</td>\n",
       "      <td>984.5</td>\n",
       "      <td>984.1</td>\n",
       "      <td>4.8</td>\n",
       "      <td>165.0</td>\n",
       "      <td>8.5</td>\n",
       "      <td>1464.0</td>\n",
       "      <td>0.0</td>\n",
       "      <td>1715.916667</td>\n",
       "    </tr>\n",
       "  </tbody>\n",
       "</table>\n",
       "<p>5 rows × 21 columns</p>\n",
       "</div>"
      ],
      "text/plain": [
       "           Data e Hora  Hora  Mês  Temp. Ins. (C)  Temp. Max. (C)  \\\n",
       "0  2019-01-06 06:00:00     6    1            23.2            23.7   \n",
       "1  2019-01-06 07:00:00     7    1            24.0            24.0   \n",
       "2  2019-01-06 08:00:00     8    1            25.9            25.9   \n",
       "3  2019-01-06 09:00:00     9    1            27.2            27.3   \n",
       "4  2019-01-06 10:00:00    10    1            27.9            28.1   \n",
       "\n",
       "   Temp. Min. (C)  Umi. Ins. (%)  Umi. Max. (%)  Umi. Min. (%)  \\\n",
       "0            23.2           89.0           89.0           89.0   \n",
       "1            23.2           89.0           89.0           89.0   \n",
       "2            24.0           86.0           89.0           86.0   \n",
       "3            25.9           82.0           86.0           82.0   \n",
       "4            27.2           78.0           83.0           78.0   \n",
       "\n",
       "   Pto Orvalho Ins. (C)  ...  Pto Orvalho Min. (C)  Pressao Ins. (hPa)  \\\n",
       "0                  21.4  ...                  21.4               982.4   \n",
       "1                  22.1  ...                  21.4               983.3   \n",
       "2                  23.3  ...                  22.1               983.8   \n",
       "3                  24.0  ...                  23.3               984.1   \n",
       "4                  23.7  ...                  23.7               984.4   \n",
       "\n",
       "   Pressao Max. (hPa)  Pressao Min. (hPa)  Vel. Vento (m/s)  Dir. Vento (m/s)  \\\n",
       "0               982.5               982.1               3.8             224.0   \n",
       "1               983.3               982.3               4.0             224.0   \n",
       "2               983.8               983.3               4.0             215.0   \n",
       "3               984.1               983.8               3.9             189.0   \n",
       "4               984.5               984.1               4.8             165.0   \n",
       "\n",
       "   Raj. Vento (m/s)  Radiacao (KJ/m²)  Chuva (mm)  Potência CA (W)  \n",
       "0               5.5               2.8         0.0       143.583333  \n",
       "1               6.8             314.2         0.0       385.333333  \n",
       "2               6.5            1204.2         0.0       674.916667  \n",
       "3               6.7            1621.1         0.0      1116.166667  \n",
       "4               8.5            1464.0         0.0      1715.916667  \n",
       "\n",
       "[5 rows x 21 columns]"
      ]
     },
     "execution_count": 1,
     "metadata": {},
     "output_type": "execute_result"
    }
   ],
   "source": [
    "import pandas as pd\n",
    "import numpy as np\n",
    "import matplotlib.pyplot as plt\n",
    "import seaborn as sns\n",
    "%matplotlib inline\n",
    "\n",
    "from sklearn.model_selection import train_test_split, KFold, cross_val_score\n",
    "from sklearn.preprocessing import StandardScaler\n",
    "from sklearn.svm import SVR\n",
    "import sklearn.metrics as metrics\n",
    "from sklearn.pipeline import Pipeline\n",
    "\n",
    "import warnings\n",
    "warnings.filterwarnings(\"ignore\")\n",
    "\n",
    "df = pd.read_csv('./dados/dados.csv') #Lendo os dados\n",
    "\n",
    "df.head()"
   ]
  },
  {
   "cell_type": "code",
   "execution_count": 39,
   "id": "1e243f5d-9e45-43bf-8c15-28613545aaaa",
   "metadata": {},
   "outputs": [],
   "source": [
    "#Declarando as variáveis:\n",
    "X = df[['Radiacao (KJ/m²)', 'Temp. Ins. (C)', 'Umi. Ins. (%)', 'Chuva (mm)', 'Hora', 'Mês', 'Pto Orvalho Ins. (C)', 'Temp. Max. (C)',\n",
    "       'Temp. Min. (C)']]\n",
    "\n",
    "y = df['Potência CA (W)']\n",
    "\n",
    "\n",
    "#Separando em treino e teste:\n",
    "X_t, X_test, y_t, y_test = train_test_split(X, y, test_size=0.1, random_state=101) #10% dos dados são p/ teste"
   ]
  },
  {
   "cell_type": "markdown",
   "id": "9c7888d5-6225-484d-907f-de2229c632b5",
   "metadata": {
    "tags": []
   },
   "source": [
    "# Validação Cruzada"
   ]
  },
  {
   "cell_type": "code",
   "execution_count": 40,
   "id": "38d757f0-856a-45c0-b5ec-8c46cb50834d",
   "metadata": {},
   "outputs": [
    {
     "name": "stdout",
     "output_type": "stream",
     "text": [
      "RMSE: -0.5792859204114678\n"
     ]
    }
   ],
   "source": [
    "#Criando o modelo:\n",
    "reg = SVR(C=40, epsilon=0.1)\n",
    "\n",
    "#Criando a pipeline do modelo:\n",
    "pipeline = Pipeline([\n",
    "                    ('scaler', StandardScaler()), ('modelo', reg)                      \n",
    "                    ])\n",
    "\n",
    "\n",
    "y_t_log = np.log(y_t) #Transformação log no y\n",
    "\n",
    "#Declarando a Validação Cruzada:\n",
    "cross_validation = KFold(n_splits=4, shuffle=True, random_state=101)\n",
    "\n",
    "#Rodando a Validação Cruzada e calculando o RMSE\n",
    "cross_val_score(pipeline, X_t, y_t_log, cv=cross_validation, scoring='neg_root_mean_squared_error')\n",
    "print('RMSE:', cross_val_score(pipeline, X_t, y_t_log, cv=cross_validation, scoring='neg_root_mean_squared_error').mean())"
   ]
  },
  {
   "cell_type": "markdown",
   "id": "91176837-3223-4e42-ac9b-e40565e06e96",
   "metadata": {},
   "source": [
    "## Obtendo as métricas para os hiperparâmetros escolhidos"
   ]
  },
  {
   "cell_type": "code",
   "execution_count": 41,
   "id": "44b36a4b-f9c3-47a1-ae9a-5ee066d38910",
   "metadata": {},
   "outputs": [
    {
     "name": "stdout",
     "output_type": "stream",
     "text": [
      "RMSE: 336.4889451184345\n",
      "MAPE: 0.7049459249868366\n",
      "R²: 0.8448620632132322\n"
     ]
    }
   ],
   "source": [
    "#Separando em treino e validação:\n",
    "X_train, X_valid, y_log_train, y_log_valid = train_test_split(X_t, y_t_log, test_size=0.3, random_state=101)\n",
    "\n",
    "\n",
    "#Treinando o modelo:\n",
    "pipeline.fit(X_train, y_log_train)\n",
    "pred_log = pipeline.predict(X_valid)\n",
    "\n",
    "#Desfazendo a transformação log\n",
    "pred = np.exp(pred_log)\n",
    "y_valid = np.exp(y_log_valid)\n",
    "\n",
    "#Métricas de avalidação\n",
    "print('RMSE:', np.sqrt(metrics.mean_squared_error(y_valid, pred)))\n",
    "print('MAPE:', metrics.mean_absolute_percentage_error(y_valid, pred))\n",
    "print('R²:', metrics.r2_score(y_valid, pred))"
   ]
  },
  {
   "cell_type": "markdown",
   "id": "9448fe3d-8606-4bed-9462-3ddbc7c351bb",
   "metadata": {},
   "source": [
    "# Prevendo os dados de teste"
   ]
  },
  {
   "cell_type": "code",
   "execution_count": 42,
   "id": "145ba397-b9ee-4e41-b17a-22ddfc47d127",
   "metadata": {},
   "outputs": [
    {
     "name": "stdout",
     "output_type": "stream",
     "text": [
      "RMSE: 319.94637738576284\n",
      "MAPE: 0.6826095890682616\n",
      "R²: 0.856091316010335\n"
     ]
    }
   ],
   "source": [
    "#Normalizando os dados de entrada:\n",
    "scaler = StandardScaler()\n",
    "X_t_scaled = scaler.fit_transform(X_t)\n",
    "X_test_scaled = scaler.fit_transform(X_test)\n",
    "\n",
    "y_t_log = np.log(y_t) #Aplicando transformação log nos dados de saída\n",
    "\n",
    "#Treinando o modelo:\n",
    "reg.fit(X_t_scaled, y_t_log)\n",
    "\n",
    "#Fazendo a previsão:\n",
    "pred_log = reg.predict(X_test_scaled)\n",
    "\n",
    "\n",
    "pred = np.exp(pred_log)\n",
    "\n",
    "\n",
    "#Avaliando o modelo:\n",
    "print('RMSE:', np.sqrt(metrics.mean_squared_error(y_test, pred)))\n",
    "print('MAPE:', metrics.mean_absolute_percentage_error(y_test, pred))\n",
    "print('R²:', metrics.r2_score(y_test, pred))"
   ]
  },
  {
   "cell_type": "code",
   "execution_count": 43,
   "id": "26f1dd8a-e4ae-4236-8bef-3d0c76a07bbc",
   "metadata": {},
   "outputs": [
    {
     "data": {
      "text/plain": [
       "<AxesSubplot:xlabel='Valor Real', ylabel='Previsão'>"
      ]
     },
     "execution_count": 43,
     "metadata": {},
     "output_type": "execute_result"
    },
    {
     "data": {
      "image/png": "[encoded data removed]",
      "text/plain": [
       "<Figure size 800x800 with 1 Axes>"
      ]
     },
     "metadata": {},
     "output_type": "display_data"
    }
   ],
   "source": [
    "plt.figure(figsize=(8,8))\n",
    "plt.xlabel('Valor Real')\n",
    "plt.ylabel('Previsão')\n",
    "sns.scatterplot(y_test,pred)"
   ]
  },
  {
   "cell_type": "code",
   "execution_count": 44,
   "id": "49ef9888-40a4-461d-970d-a5ad53550c87",
   "metadata": {},
   "outputs": [
    {
     "data": {
      "text/html": [
       "<div>\n",
       "<style scoped>\n",
       "    .dataframe tbody tr th:only-of-type {\n",
       "        vertical-align: middle;\n",
       "    }\n",
       "\n",
       "    .dataframe tbody tr th {\n",
       "        vertical-align: top;\n",
       "    }\n",
       "\n",
       "    .dataframe thead th {\n",
       "        text-align: right;\n",
       "    }\n",
       "</style>\n",
       "<table border=\"1\" class=\"dataframe\">\n",
       "  <thead>\n",
       "    <tr style=\"text-align: right;\">\n",
       "      <th></th>\n",
       "      <th>Real</th>\n",
       "      <th>Previsto</th>\n",
       "      <th>Erro</th>\n",
       "    </tr>\n",
       "  </thead>\n",
       "  <tbody>\n",
       "    <tr>\n",
       "      <th>2989</th>\n",
       "      <td>1298.800000</td>\n",
       "      <td>1631.105663</td>\n",
       "      <td>332.305663</td>\n",
       "    </tr>\n",
       "    <tr>\n",
       "      <th>3644</th>\n",
       "      <td>2411.333333</td>\n",
       "      <td>1950.552753</td>\n",
       "      <td>-460.780581</td>\n",
       "    </tr>\n",
       "    <tr>\n",
       "      <th>3296</th>\n",
       "      <td>2173.416667</td>\n",
       "      <td>1898.583027</td>\n",
       "      <td>-274.833640</td>\n",
       "    </tr>\n",
       "    <tr>\n",
       "      <th>96</th>\n",
       "      <td>1222.000000</td>\n",
       "      <td>2354.844746</td>\n",
       "      <td>1132.844746</td>\n",
       "    </tr>\n",
       "    <tr>\n",
       "      <th>1884</th>\n",
       "      <td>1922.750000</td>\n",
       "      <td>1752.205274</td>\n",
       "      <td>-170.544726</td>\n",
       "    </tr>\n",
       "  </tbody>\n",
       "</table>\n",
       "</div>"
      ],
      "text/plain": [
       "             Real     Previsto         Erro\n",
       "2989  1298.800000  1631.105663   332.305663\n",
       "3644  2411.333333  1950.552753  -460.780581\n",
       "3296  2173.416667  1898.583027  -274.833640\n",
       "96    1222.000000  2354.844746  1132.844746\n",
       "1884  1922.750000  1752.205274  -170.544726"
      ]
     },
     "execution_count": 44,
     "metadata": {},
     "output_type": "execute_result"
    }
   ],
   "source": [
    "pred_table = pd.DataFrame({'Real': y_test, 'Previsto': pred, 'Erro': pred-y_test})\n",
    "\n",
    "pred_table.head()"
   ]
  },
  {
   "cell_type": "code",
   "execution_count": 57,
   "id": "d81f01fc-9acf-4142-a3bd-94edb27349b8",
   "metadata": {},
   "outputs": [
    {
     "data": {
      "text/plain": [
       "0.11593712092879883"
      ]
     },
     "execution_count": 57,
     "metadata": {},
     "output_type": "execute_result"
    }
   ],
   "source": [
    "np.sqrt(metrics.mean_squared_error(y_test, pred))/max(y_test)"
   ]
  },
  {
   "cell_type": "code",
   "execution_count": 45,
   "id": "31f44418-815a-478d-adb8-6b072f123cd7",
   "metadata": {},
   "outputs": [
    {
     "data": {
      "text/plain": [
       "0.29660076362628063"
      ]
     },
     "execution_count": 45,
     "metadata": {},
     "output_type": "execute_result"
    }
   ],
   "source": [
    "np.sqrt(metrics.mean_squared_error(y_test, pred))/(df['Potência CA (W)']).mean()"
   ]
  },
  {
   "cell_type": "code",
   "execution_count": 47,
   "id": "700f779d",
   "metadata": {},
   "outputs": [
    {
     "data": {
      "text/plain": [
       "606"
      ]
     },
     "execution_count": 47,
     "metadata": {},
     "output_type": "execute_result"
    }
   ],
   "source": [
    "len(pred)\n",
    "\n",
    "2.4442"
   ]
  }
 ],
 "metadata": {
  "kernelspec": {
   "display_name": "Python 3.9.13 ('base')",
   "language": "python",
   "name": "python3"
  },
  "language_info": {
   "codemirror_mode": {
    "name": "ipython",
    "version": 3
   },
   "file_extension": ".py",
   "mimetype": "text/x-python",
   "name": "python",
   "nbconvert_exporter": "python",
   "pygments_lexer": "ipython3",
   "version": "3.9.13"
  },
  "vscode": {
   "interpreter": {
    "hash": "b0d555105557f66a9a45792b632724fc3e2f2f64eea2ec00e88d317940673588"
   }
  }
 },
 "nbformat": 4,
 "nbformat_minor": 5
}
