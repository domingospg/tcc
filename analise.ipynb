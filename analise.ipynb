{
 "cells": [
  {
   "cell_type": "code",
   "execution_count": 1,
   "id": "5e28812e-e5d7-4b44-aa67-6ec8d0e9e1a3",
   "metadata": {},
   "outputs": [
    {
     "data": {
      "text/html": [
       "<div>\n",
       "<style scoped>\n",
       "    .dataframe tbody tr th:only-of-type {\n",
       "        vertical-align: middle;\n",
       "    }\n",
       "\n",
       "    .dataframe tbody tr th {\n",
       "        vertical-align: top;\n",
       "    }\n",
       "\n",
       "    .dataframe thead th {\n",
       "        text-align: right;\n",
       "    }\n",
       "</style>\n",
       "<table border=\"1\" class=\"dataframe\">\n",
       "  <thead>\n",
       "    <tr style=\"text-align: right;\">\n",
       "      <th></th>\n",
       "      <th>Data e Hora</th>\n",
       "      <th>Hora</th>\n",
       "      <th>Mês</th>\n",
       "      <th>Temp. Ins. (C)</th>\n",
       "      <th>Temp. Max. (C)</th>\n",
       "      <th>Temp. Min. (C)</th>\n",
       "      <th>Umi. Ins. (%)</th>\n",
       "      <th>Umi. Max. (%)</th>\n",
       "      <th>Umi. Min. (%)</th>\n",
       "      <th>Pto Orvalho Ins. (C)</th>\n",
       "      <th>...</th>\n",
       "      <th>Pto Orvalho Min. (C)</th>\n",
       "      <th>Pressao Ins. (hPa)</th>\n",
       "      <th>Pressao Max. (hPa)</th>\n",
       "      <th>Pressao Min. (hPa)</th>\n",
       "      <th>Vel. Vento (m/s)</th>\n",
       "      <th>Dir. Vento (m/s)</th>\n",
       "      <th>Raj. Vento (m/s)</th>\n",
       "      <th>Radiacao (KJ/m²)</th>\n",
       "      <th>Chuva (mm)</th>\n",
       "      <th>Potência CA (W)</th>\n",
       "    </tr>\n",
       "  </thead>\n",
       "  <tbody>\n",
       "    <tr>\n",
       "      <th>0</th>\n",
       "      <td>2019-01-06 06:00:00</td>\n",
       "      <td>6</td>\n",
       "      <td>1</td>\n",
       "      <td>23.2</td>\n",
       "      <td>23.7</td>\n",
       "      <td>23.2</td>\n",
       "      <td>89.0</td>\n",
       "      <td>89.0</td>\n",
       "      <td>89.0</td>\n",
       "      <td>21.4</td>\n",
       "      <td>...</td>\n",
       "      <td>21.4</td>\n",
       "      <td>982.4</td>\n",
       "      <td>982.5</td>\n",
       "      <td>982.1</td>\n",
       "      <td>3.8</td>\n",
       "      <td>224.0</td>\n",
       "      <td>5.5</td>\n",
       "      <td>2.8</td>\n",
       "      <td>0.0</td>\n",
       "      <td>143.583333</td>\n",
       "    </tr>\n",
       "    <tr>\n",
       "      <th>1</th>\n",
       "      <td>2019-01-06 07:00:00</td>\n",
       "      <td>7</td>\n",
       "      <td>1</td>\n",
       "      <td>24.0</td>\n",
       "      <td>24.0</td>\n",
       "      <td>23.2</td>\n",
       "      <td>89.0</td>\n",
       "      <td>89.0</td>\n",
       "      <td>89.0</td>\n",
       "      <td>22.1</td>\n",
       "      <td>...</td>\n",
       "      <td>21.4</td>\n",
       "      <td>983.3</td>\n",
       "      <td>983.3</td>\n",
       "      <td>982.3</td>\n",
       "      <td>4.0</td>\n",
       "      <td>224.0</td>\n",
       "      <td>6.8</td>\n",
       "      <td>314.2</td>\n",
       "      <td>0.0</td>\n",
       "      <td>385.333333</td>\n",
       "    </tr>\n",
       "    <tr>\n",
       "      <th>2</th>\n",
       "      <td>2019-01-06 08:00:00</td>\n",
       "      <td>8</td>\n",
       "      <td>1</td>\n",
       "      <td>25.9</td>\n",
       "      <td>25.9</td>\n",
       "      <td>24.0</td>\n",
       "      <td>86.0</td>\n",
       "      <td>89.0</td>\n",
       "      <td>86.0</td>\n",
       "      <td>23.3</td>\n",
       "      <td>...</td>\n",
       "      <td>22.1</td>\n",
       "      <td>983.8</td>\n",
       "      <td>983.8</td>\n",
       "      <td>983.3</td>\n",
       "      <td>4.0</td>\n",
       "      <td>215.0</td>\n",
       "      <td>6.5</td>\n",
       "      <td>1204.2</td>\n",
       "      <td>0.0</td>\n",
       "      <td>674.916667</td>\n",
       "    </tr>\n",
       "    <tr>\n",
       "      <th>3</th>\n",
       "      <td>2019-01-06 09:00:00</td>\n",
       "      <td>9</td>\n",
       "      <td>1</td>\n",
       "      <td>27.2</td>\n",
       "      <td>27.3</td>\n",
       "      <td>25.9</td>\n",
       "      <td>82.0</td>\n",
       "      <td>86.0</td>\n",
       "      <td>82.0</td>\n",
       "      <td>24.0</td>\n",
       "      <td>...</td>\n",
       "      <td>23.3</td>\n",
       "      <td>984.1</td>\n",
       "      <td>984.1</td>\n",
       "      <td>983.8</td>\n",
       "      <td>3.9</td>\n",
       "      <td>189.0</td>\n",
       "      <td>6.7</td>\n",
       "      <td>1621.1</td>\n",
       "      <td>0.0</td>\n",
       "      <td>1116.166667</td>\n",
       "    </tr>\n",
       "    <tr>\n",
       "      <th>4</th>\n",
       "      <td>2019-01-06 10:00:00</td>\n",
       "      <td>10</td>\n",
       "      <td>1</td>\n",
       "      <td>27.9</td>\n",
       "      <td>28.1</td>\n",
       "      <td>27.2</td>\n",
       "      <td>78.0</td>\n",
       "      <td>83.0</td>\n",
       "      <td>78.0</td>\n",
       "      <td>23.7</td>\n",
       "      <td>...</td>\n",
       "      <td>23.7</td>\n",
       "      <td>984.4</td>\n",
       "      <td>984.5</td>\n",
       "      <td>984.1</td>\n",
       "      <td>4.8</td>\n",
       "      <td>165.0</td>\n",
       "      <td>8.5</td>\n",
       "      <td>1464.0</td>\n",
       "      <td>0.0</td>\n",
       "      <td>1715.916667</td>\n",
       "    </tr>\n",
       "  </tbody>\n",
       "</table>\n",
       "<p>5 rows × 21 columns</p>\n",
       "</div>"
      ],
      "text/plain": [
       "           Data e Hora  Hora  Mês  Temp. Ins. (C)  Temp. Max. (C)  \\\n",
       "0  2019-01-06 06:00:00     6    1            23.2            23.7   \n",
       "1  2019-01-06 07:00:00     7    1            24.0            24.0   \n",
       "2  2019-01-06 08:00:00     8    1            25.9            25.9   \n",
       "3  2019-01-06 09:00:00     9    1            27.2            27.3   \n",
       "4  2019-01-06 10:00:00    10    1            27.9            28.1   \n",
       "\n",
       "   Temp. Min. (C)  Umi. Ins. (%)  Umi. Max. (%)  Umi. Min. (%)  \\\n",
       "0            23.2           89.0           89.0           89.0   \n",
       "1            23.2           89.0           89.0           89.0   \n",
       "2            24.0           86.0           89.0           86.0   \n",
       "3            25.9           82.0           86.0           82.0   \n",
       "4            27.2           78.0           83.0           78.0   \n",
       "\n",
       "   Pto Orvalho Ins. (C)  ...  Pto Orvalho Min. (C)  Pressao Ins. (hPa)  \\\n",
       "0                  21.4  ...                  21.4               982.4   \n",
       "1                  22.1  ...                  21.4               983.3   \n",
       "2                  23.3  ...                  22.1               983.8   \n",
       "3                  24.0  ...                  23.3               984.1   \n",
       "4                  23.7  ...                  23.7               984.4   \n",
       "\n",
       "   Pressao Max. (hPa)  Pressao Min. (hPa)  Vel. Vento (m/s)  Dir. Vento (m/s)  \\\n",
       "0               982.5               982.1               3.8             224.0   \n",
       "1               983.3               982.3               4.0             224.0   \n",
       "2               983.8               983.3               4.0             215.0   \n",
       "3               984.1               983.8               3.9             189.0   \n",
       "4               984.5               984.1               4.8             165.0   \n",
       "\n",
       "   Raj. Vento (m/s)  Radiacao (KJ/m²)  Chuva (mm)  Potência CA (W)  \n",
       "0               5.5               2.8         0.0       143.583333  \n",
       "1               6.8             314.2         0.0       385.333333  \n",
       "2               6.5            1204.2         0.0       674.916667  \n",
       "3               6.7            1621.1         0.0      1116.166667  \n",
       "4               8.5            1464.0         0.0      1715.916667  \n",
       "\n",
       "[5 rows x 21 columns]"
      ]
     },
     "execution_count": 1,
     "metadata": {},
     "output_type": "execute_result"
    }
   ],
   "source": [
    "import pandas as pd\n",
    "import numpy as np\n",
    "import matplotlib.pyplot as plt\n",
    "import seaborn as sns\n",
    "%matplotlib inline\n",
    "\n",
    "df = pd.read_csv('./dados/dados.csv') #Lendo os dados\n",
    "df.head()"
   ]
  },
  {
   "cell_type": "code",
   "execution_count": 2,
   "id": "b1caf049-c174-4b65-a3b5-4f6858a9d7bf",
   "metadata": {},
   "outputs": [
    {
     "data": {
      "text/plain": [
       "<AxesSubplot:ylabel='Potência CA (W)'>"
      ]
     },
     "execution_count": 2,
     "metadata": {},
     "output_type": "execute_result"
    },
    {
     "data": {
      "image/png": "[encoded data removed]",
      "text/plain": [
       "<Figure size 500x1000 with 1 Axes>"
      ]
     },
     "metadata": {},
     "output_type": "display_data"
    }
   ],
   "source": [
    "# Analisando a distribuição da Potência\n",
    "\n",
    "plt.figure(figsize=(5,10))\n",
    "sns.boxplot(y=df['Potência CA (W)'])"
   ]
  },
  {
   "cell_type": "code",
   "execution_count": 5,
   "id": "bc918c82-38c1-4e99-86dd-6e8b07dce1a7",
   "metadata": {},
   "outputs": [
    {
     "data": {
      "text/html": [
       "<div>\n",
       "<style scoped>\n",
       "    .dataframe tbody tr th:only-of-type {\n",
       "        vertical-align: middle;\n",
       "    }\n",
       "\n",
       "    .dataframe tbody tr th {\n",
       "        vertical-align: top;\n",
       "    }\n",
       "\n",
       "    .dataframe thead th {\n",
       "        text-align: right;\n",
       "    }\n",
       "</style>\n",
       "<table border=\"1\" class=\"dataframe\">\n",
       "  <thead>\n",
       "    <tr style=\"text-align: right;\">\n",
       "      <th></th>\n",
       "      <th>Hora</th>\n",
       "      <th>Mês</th>\n",
       "      <th>Temp. Ins. (C)</th>\n",
       "      <th>Temp. Max. (C)</th>\n",
       "      <th>Temp. Min. (C)</th>\n",
       "      <th>Umi. Ins. (%)</th>\n",
       "      <th>Umi. Max. (%)</th>\n",
       "      <th>Umi. Min. (%)</th>\n",
       "      <th>Pto Orvalho Ins. (C)</th>\n",
       "      <th>Pto Orvalho Max. (C)</th>\n",
       "      <th>Pto Orvalho Min. (C)</th>\n",
       "      <th>Pressao Ins. (hPa)</th>\n",
       "      <th>Pressao Max. (hPa)</th>\n",
       "      <th>Pressao Min. (hPa)</th>\n",
       "      <th>Vel. Vento (m/s)</th>\n",
       "      <th>Dir. Vento (m/s)</th>\n",
       "      <th>Raj. Vento (m/s)</th>\n",
       "      <th>Radiacao (KJ/m²)</th>\n",
       "      <th>Chuva (mm)</th>\n",
       "      <th>Potência CA (W)</th>\n",
       "    </tr>\n",
       "  </thead>\n",
       "  <tbody>\n",
       "    <tr>\n",
       "      <th>count</th>\n",
       "      <td>6060.000000</td>\n",
       "      <td>6060.000000</td>\n",
       "      <td>6060.000000</td>\n",
       "      <td>6060.000000</td>\n",
       "      <td>6060.000000</td>\n",
       "      <td>6060.000000</td>\n",
       "      <td>6060.000000</td>\n",
       "      <td>6060.000000</td>\n",
       "      <td>6060.000000</td>\n",
       "      <td>6060.000000</td>\n",
       "      <td>6060.000000</td>\n",
       "      <td>6060.000000</td>\n",
       "      <td>6060.000000</td>\n",
       "      <td>6060.000000</td>\n",
       "      <td>6060.000000</td>\n",
       "      <td>6060.000000</td>\n",
       "      <td>6060.000000</td>\n",
       "      <td>6060.000000</td>\n",
       "      <td>6060.000000</td>\n",
       "      <td>6060.000000</td>\n",
       "    </tr>\n",
       "    <tr>\n",
       "      <th>mean</th>\n",
       "      <td>12.720132</td>\n",
       "      <td>5.618977</td>\n",
       "      <td>25.206551</td>\n",
       "      <td>25.754472</td>\n",
       "      <td>24.146106</td>\n",
       "      <td>66.504620</td>\n",
       "      <td>69.798185</td>\n",
       "      <td>65.077888</td>\n",
       "      <td>17.597706</td>\n",
       "      <td>18.288647</td>\n",
       "      <td>16.898482</td>\n",
       "      <td>985.678630</td>\n",
       "      <td>986.054422</td>\n",
       "      <td>985.445776</td>\n",
       "      <td>3.008911</td>\n",
       "      <td>201.350330</td>\n",
       "      <td>6.462178</td>\n",
       "      <td>1513.880594</td>\n",
       "      <td>0.145479</td>\n",
       "      <td>1078.710565</td>\n",
       "    </tr>\n",
       "    <tr>\n",
       "      <th>std</th>\n",
       "      <td>3.512723</td>\n",
       "      <td>3.586279</td>\n",
       "      <td>5.873932</td>\n",
       "      <td>6.062217</td>\n",
       "      <td>5.925956</td>\n",
       "      <td>19.902232</td>\n",
       "      <td>19.296533</td>\n",
       "      <td>20.482452</td>\n",
       "      <td>4.344334</td>\n",
       "      <td>4.283865</td>\n",
       "      <td>4.381073</td>\n",
       "      <td>4.264778</td>\n",
       "      <td>4.237705</td>\n",
       "      <td>4.263852</td>\n",
       "      <td>1.820524</td>\n",
       "      <td>97.163061</td>\n",
       "      <td>2.930972</td>\n",
       "      <td>1160.474822</td>\n",
       "      <td>1.197322</td>\n",
       "      <td>853.244428</td>\n",
       "    </tr>\n",
       "    <tr>\n",
       "      <th>min</th>\n",
       "      <td>5.000000</td>\n",
       "      <td>1.000000</td>\n",
       "      <td>1.100000</td>\n",
       "      <td>1.300000</td>\n",
       "      <td>0.400000</td>\n",
       "      <td>14.000000</td>\n",
       "      <td>15.000000</td>\n",
       "      <td>13.000000</td>\n",
       "      <td>-1.000000</td>\n",
       "      <td>0.100000</td>\n",
       "      <td>-1.000000</td>\n",
       "      <td>973.800000</td>\n",
       "      <td>974.000000</td>\n",
       "      <td>973.700000</td>\n",
       "      <td>0.000000</td>\n",
       "      <td>1.000000</td>\n",
       "      <td>0.000000</td>\n",
       "      <td>0.100000</td>\n",
       "      <td>0.000000</td>\n",
       "      <td>0.250000</td>\n",
       "    </tr>\n",
       "    <tr>\n",
       "      <th>25%</th>\n",
       "      <td>10.000000</td>\n",
       "      <td>3.000000</td>\n",
       "      <td>21.500000</td>\n",
       "      <td>21.900000</td>\n",
       "      <td>20.500000</td>\n",
       "      <td>51.000000</td>\n",
       "      <td>55.000000</td>\n",
       "      <td>49.000000</td>\n",
       "      <td>15.000000</td>\n",
       "      <td>15.700000</td>\n",
       "      <td>14.300000</td>\n",
       "      <td>982.700000</td>\n",
       "      <td>983.100000</td>\n",
       "      <td>982.400000</td>\n",
       "      <td>1.700000</td>\n",
       "      <td>142.000000</td>\n",
       "      <td>4.300000</td>\n",
       "      <td>452.250000</td>\n",
       "      <td>0.000000</td>\n",
       "      <td>275.729167</td>\n",
       "    </tr>\n",
       "    <tr>\n",
       "      <th>50%</th>\n",
       "      <td>13.000000</td>\n",
       "      <td>5.000000</td>\n",
       "      <td>25.400000</td>\n",
       "      <td>26.000000</td>\n",
       "      <td>24.200000</td>\n",
       "      <td>69.000000</td>\n",
       "      <td>73.000000</td>\n",
       "      <td>67.000000</td>\n",
       "      <td>18.400000</td>\n",
       "      <td>19.100000</td>\n",
       "      <td>17.700000</td>\n",
       "      <td>985.400000</td>\n",
       "      <td>985.800000</td>\n",
       "      <td>985.200000</td>\n",
       "      <td>2.700000</td>\n",
       "      <td>212.000000</td>\n",
       "      <td>6.000000</td>\n",
       "      <td>1323.450000</td>\n",
       "      <td>0.000000</td>\n",
       "      <td>910.366667</td>\n",
       "    </tr>\n",
       "    <tr>\n",
       "      <th>75%</th>\n",
       "      <td>16.000000</td>\n",
       "      <td>8.000000</td>\n",
       "      <td>29.300000</td>\n",
       "      <td>30.100000</td>\n",
       "      <td>28.400000</td>\n",
       "      <td>84.000000</td>\n",
       "      <td>87.000000</td>\n",
       "      <td>83.000000</td>\n",
       "      <td>20.900000</td>\n",
       "      <td>21.500000</td>\n",
       "      <td>20.200000</td>\n",
       "      <td>988.200000</td>\n",
       "      <td>988.500000</td>\n",
       "      <td>988.000000</td>\n",
       "      <td>4.100000</td>\n",
       "      <td>272.000000</td>\n",
       "      <td>8.200000</td>\n",
       "      <td>2406.525000</td>\n",
       "      <td>0.000000</td>\n",
       "      <td>1846.340909</td>\n",
       "    </tr>\n",
       "    <tr>\n",
       "      <th>max</th>\n",
       "      <td>19.000000</td>\n",
       "      <td>12.000000</td>\n",
       "      <td>39.400000</td>\n",
       "      <td>40.000000</td>\n",
       "      <td>38.800000</td>\n",
       "      <td>97.000000</td>\n",
       "      <td>97.000000</td>\n",
       "      <td>97.000000</td>\n",
       "      <td>26.900000</td>\n",
       "      <td>27.200000</td>\n",
       "      <td>26.000000</td>\n",
       "      <td>1001.800000</td>\n",
       "      <td>1002.900000</td>\n",
       "      <td>1001.800000</td>\n",
       "      <td>12.000000</td>\n",
       "      <td>360.000000</td>\n",
       "      <td>26.500000</td>\n",
       "      <td>5262.800000</td>\n",
       "      <td>31.400000</td>\n",
       "      <td>3019.636364</td>\n",
       "    </tr>\n",
       "  </tbody>\n",
       "</table>\n",
       "</div>"
      ],
      "text/plain": [
       "              Hora          Mês  Temp. Ins. (C)  Temp. Max. (C)  \\\n",
       "count  6060.000000  6060.000000     6060.000000     6060.000000   \n",
       "mean     12.720132     5.618977       25.206551       25.754472   \n",
       "std       3.512723     3.586279        5.873932        6.062217   \n",
       "min       5.000000     1.000000        1.100000        1.300000   \n",
       "25%      10.000000     3.000000       21.500000       21.900000   \n",
       "50%      13.000000     5.000000       25.400000       26.000000   \n",
       "75%      16.000000     8.000000       29.300000       30.100000   \n",
       "max      19.000000    12.000000       39.400000       40.000000   \n",
       "\n",
       "       Temp. Min. (C)  Umi. Ins. (%)  Umi. Max. (%)  Umi. Min. (%)  \\\n",
       "count     6060.000000    6060.000000    6060.000000    6060.000000   \n",
       "mean        24.146106      66.504620      69.798185      65.077888   \n",
       "std          5.925956      19.902232      19.296533      20.482452   \n",
       "min          0.400000      14.000000      15.000000      13.000000   \n",
       "25%         20.500000      51.000000      55.000000      49.000000   \n",
       "50%         24.200000      69.000000      73.000000      67.000000   \n",
       "75%         28.400000      84.000000      87.000000      83.000000   \n",
       "max         38.800000      97.000000      97.000000      97.000000   \n",
       "\n",
       "       Pto Orvalho Ins. (C)  Pto Orvalho Max. (C)  Pto Orvalho Min. (C)  \\\n",
       "count           6060.000000           6060.000000           6060.000000   \n",
       "mean              17.597706             18.288647             16.898482   \n",
       "std                4.344334              4.283865              4.381073   \n",
       "min               -1.000000              0.100000             -1.000000   \n",
       "25%               15.000000             15.700000             14.300000   \n",
       "50%               18.400000             19.100000             17.700000   \n",
       "75%               20.900000             21.500000             20.200000   \n",
       "max               26.900000             27.200000             26.000000   \n",
       "\n",
       "       Pressao Ins. (hPa)  Pressao Max. (hPa)  Pressao Min. (hPa)  \\\n",
       "count         6060.000000         6060.000000         6060.000000   \n",
       "mean           985.678630          986.054422          985.445776   \n",
       "std              4.264778            4.237705            4.263852   \n",
       "min            973.800000          974.000000          973.700000   \n",
       "25%            982.700000          983.100000          982.400000   \n",
       "50%            985.400000          985.800000          985.200000   \n",
       "75%            988.200000          988.500000          988.000000   \n",
       "max           1001.800000         1002.900000         1001.800000   \n",
       "\n",
       "       Vel. Vento (m/s)  Dir. Vento (m/s)  Raj. Vento (m/s)  Radiacao (KJ/m²)  \\\n",
       "count       6060.000000       6060.000000       6060.000000       6060.000000   \n",
       "mean           3.008911        201.350330          6.462178       1513.880594   \n",
       "std            1.820524         97.163061          2.930972       1160.474822   \n",
       "min            0.000000          1.000000          0.000000          0.100000   \n",
       "25%            1.700000        142.000000          4.300000        452.250000   \n",
       "50%            2.700000        212.000000          6.000000       1323.450000   \n",
       "75%            4.100000        272.000000          8.200000       2406.525000   \n",
       "max           12.000000        360.000000         26.500000       5262.800000   \n",
       "\n",
       "        Chuva (mm)  Potência CA (W)  \n",
       "count  6060.000000      6060.000000  \n",
       "mean      0.145479      1078.710565  \n",
       "std       1.197322       853.244428  \n",
       "min       0.000000         0.250000  \n",
       "25%       0.000000       275.729167  \n",
       "50%       0.000000       910.366667  \n",
       "75%       0.000000      1846.340909  \n",
       "max      31.400000      3019.636364  "
      ]
     },
     "execution_count": 5,
     "metadata": {},
     "output_type": "execute_result"
    }
   ],
   "source": [
    "df.describe()"
   ]
  },
  {
   "cell_type": "code",
   "execution_count": 6,
   "id": "1ccd6477-2d5c-403e-aaa7-e904ae511b76",
   "metadata": {},
   "outputs": [
    {
     "data": {
      "text/plain": [
       "Hora\n",
       "13    1844.201820\n",
       "12    1843.907468\n",
       "14    1716.791199\n",
       "11    1651.283469\n",
       "15    1406.958727\n",
       "10    1340.078405\n",
       "16    1014.016481\n",
       "9      861.227212\n",
       "17     557.969130\n",
       "8      338.302282\n",
       "18     185.455168\n",
       "7      163.718933\n",
       "6      100.416520\n",
       "19      32.311595\n",
       "5       11.606667\n",
       "Name: Potência CA (W), dtype: float64"
      ]
     },
     "execution_count": 6,
     "metadata": {},
     "output_type": "execute_result"
    }
   ],
   "source": [
    "df.groupby('Hora').mean()['Potência CA (W)'].sort_values(ascending=False)"
   ]
  },
  {
   "cell_type": "code",
   "execution_count": 7,
   "id": "7365e1bf-552f-48cf-a2f6-c3fd908df212",
   "metadata": {},
   "outputs": [
    {
     "data": {
      "text/plain": [
       "Mês\n",
       "2     1243.993302\n",
       "1     1234.992443\n",
       "12    1227.693670\n",
       "11    1164.407812\n",
       "3     1128.839680\n",
       "7     1024.254335\n",
       "9     1007.987670\n",
       "8      988.584875\n",
       "4      977.894329\n",
       "6      914.956004\n",
       "10     841.445344\n",
       "5      761.820456\n",
       "Name: Potência CA (W), dtype: float64"
      ]
     },
     "execution_count": 7,
     "metadata": {},
     "output_type": "execute_result"
    }
   ],
   "source": [
    "df.groupby('Mês').mean()['Potência CA (W)'].sort_values(ascending=False)"
   ]
  },
  {
   "cell_type": "markdown",
   "id": "d380e81d-d485-4e15-9ff3-60cac8e7209e",
   "metadata": {},
   "source": [
    "## Análise de Correlação"
   ]
  },
  {
   "cell_type": "markdown",
   "id": "77f07162-4a73-4d5c-9336-b7e5e75b553c",
   "metadata": {},
   "source": [
    "### Correlação de Pearson:"
   ]
  },
  {
   "cell_type": "code",
   "execution_count": 2,
   "id": "8d9b381d-ef50-4887-a8d6-63b84b43080b",
   "metadata": {},
   "outputs": [
    {
     "data": {
      "text/plain": [
       "Potência CA (W)         1.000000\n",
       "Radiacao (KJ/m²)        0.819057\n",
       "Temp. Ins. (C)          0.438668\n",
       "Temp. Max. (C)          0.397042\n",
       "Temp. Min. (C)          0.368587\n",
       "Raj. Vento (m/s)        0.257354\n",
       "Vel. Vento (m/s)        0.204788\n",
       "Pressao Max. (hPa)      0.097188\n",
       "Pressao Min. (hPa)      0.091788\n",
       "Pto Orvalho Max. (C)    0.083306\n",
       "Pressao Ins. (hPa)      0.053424\n",
       "Pto Orvalho Ins. (C)    0.016795\n",
       "Pto Orvalho Min. (C)   -0.002369\n",
       "Hora                   -0.010074\n",
       "Mês                    -0.022528\n",
       "Chuva (mm)             -0.109281\n",
       "Dir. Vento (m/s)       -0.145307\n",
       "Umi. Max. (%)          -0.384140\n",
       "Umi. Min. (%)          -0.430421\n",
       "Umi. Ins. (%)          -0.466839\n",
       "Name: Potência CA (W), dtype: float64"
      ]
     },
     "execution_count": 2,
     "metadata": {},
     "output_type": "execute_result"
    }
   ],
   "source": [
    "df.corr()['Potência CA (W)'].sort_values(ascending=False)"
   ]
  },
  {
   "cell_type": "markdown",
   "id": "25b9e48c-486a-4886-88bc-2ed57d918036",
   "metadata": {},
   "source": [
    "### Correlação de Spearman:"
   ]
  },
  {
   "cell_type": "code",
   "execution_count": 2,
   "id": "53937906-9867-41d9-aa81-5497fb79da74",
   "metadata": {},
   "outputs": [],
   "source": [
    "from scipy import stats as st"
   ]
  },
  {
   "cell_type": "code",
   "execution_count": 25,
   "id": "cee0b6cd-6239-4c57-9788-dbe70672be3c",
   "metadata": {},
   "outputs": [
    {
     "name": "stdout",
     "output_type": "stream",
     "text": [
      "Data e Hora: SpearmanrResult(correlation=0.11183351266781229, pvalue=2.5154634609392837e-18)\n",
      "Hora: SpearmanrResult(correlation=-0.05384653206121348, pvalue=2.7418058052967385e-05)\n",
      "Mês: SpearmanrResult(correlation=-0.047784891477702714, pvalue=0.00019826176936714224)\n",
      "Temp. Ins. (C): SpearmanrResult(correlation=0.45265786357318283, pvalue=5.415286688700116e-304)\n",
      "Temp. Max. (C): SpearmanrResult(correlation=0.40134508312263034, pvalue=2.2894886258961633e-233)\n",
      "Temp. Min. (C): SpearmanrResult(correlation=0.3796530439827249, pvalue=4.833867855627504e-207)\n",
      "Umi. Ins. (%): SpearmanrResult(correlation=-0.4595329394855468, pvalue=0.0)\n",
      "Umi. Max. (%): SpearmanrResult(correlation=-0.38266490962300076, pvalue=1.4032524519772719e-210)\n",
      "Umi. Min. (%): SpearmanrResult(correlation=-0.41861859787434913, pvalue=8.758530101130623e-256)\n",
      "Pto Orvalho Ins. (C): SpearmanrResult(correlation=0.03310662200651389, pvalue=0.00995487039728845)\n",
      "Pto Orvalho Max. (C): SpearmanrResult(correlation=0.09776418502669824, pvalue=2.3980071716216997e-14)\n",
      "Pto Orvalho Min. (C): SpearmanrResult(correlation=0.008216721633678816, pvalue=0.5224861569288284)\n",
      "Pressao Ins. (hPa): SpearmanrResult(correlation=0.06881355894287641, pvalue=8.225448632872402e-08)\n",
      "Pressao Max. (hPa): SpearmanrResult(correlation=0.11173738456406852, pvalue=2.689128017504665e-18)\n",
      "Pressao Min. (hPa): SpearmanrResult(correlation=0.10902351523652842, pvalue=1.729277432414117e-17)\n",
      "Vel. Vento (m/s): SpearmanrResult(correlation=0.21773132134791423, pvalue=6.053116022129222e-66)\n",
      "Dir. Vento (m/s): SpearmanrResult(correlation=-0.1740544709089196, pvalue=1.9921311944171297e-42)\n",
      "Raj. Vento (m/s): SpearmanrResult(correlation=0.296396697402204, pvalue=3.7792605174052295e-123)\n",
      "Radiacao (KJ/m²): SpearmanrResult(correlation=0.8112249609920787, pvalue=0.0)\n",
      "Chuva (mm): SpearmanrResult(correlation=-0.18768558734593455, pvalue=3.636341724019831e-49)\n",
      "Potência CA (W): SpearmanrResult(correlation=0.9999999999999999, pvalue=0.0)\n"
     ]
    }
   ],
   "source": [
    "for i in list(df.columns):\n",
    "    print(\"{}: {}\".format(i, st.spearmanr(df[i], df['Potência CA (W)'])))"
   ]
  },
  {
   "cell_type": "markdown",
   "id": "63219943-5a54-437e-a82d-4977f279e39f",
   "metadata": {},
   "source": [
    "### Correlação de Kendall:"
   ]
  },
  {
   "cell_type": "code",
   "execution_count": 27,
   "id": "7084e600-b484-4d44-bd54-c2fb708107fc",
   "metadata": {},
   "outputs": [
    {
     "name": "stdout",
     "output_type": "stream",
     "text": [
      "Data e Hora: KendalltauResult(correlation=0.07213640102809903, pvalue=3.7413619478308893e-17)\n",
      "Hora: KendalltauResult(correlation=-0.011383896433416937, pvalue=0.20050632994143647)\n",
      "Mês: KendalltauResult(correlation=-0.03353732594104375, pvalue=0.0001823021610590853)\n",
      "Temp. Ins. (C): KendalltauResult(correlation=0.31134202356712615, pvalue=7.66658898975051e-288)\n",
      "Temp. Max. (C): KendalltauResult(correlation=0.2774125505585779, pvalue=5.283786722234328e-229)\n",
      "Temp. Min. (C): KendalltauResult(correlation=0.2582038039311681, pvalue=1.2240529697710954e-198)\n",
      "Umi. Ins. (%): KendalltauResult(correlation=-0.32246764790554805, pvalue=1.3966122197530927e-305)\n",
      "Umi. Max. (%): KendalltauResult(correlation=-0.26671543995879793, pvalue=2.2432055882598565e-209)\n",
      "Umi. Min. (%): KendalltauResult(correlation=-0.2956402914633136, pvalue=2.516692018247011e-257)\n",
      "Pto Orvalho Ins. (C): KendalltauResult(correlation=0.023987161442378207, pvalue=0.005268146729340028)\n",
      "Pto Orvalho Max. (C): KendalltauResult(correlation=0.06616151225699601, pvalue=1.409557995634819e-14)\n",
      "Pto Orvalho Min. (C): KendalltauResult(correlation=0.007066691914615701, pvalue=0.41105703196067733)\n",
      "Pressao Ins. (hPa): KendalltauResult(correlation=0.04578373257340249, pvalue=1.0017282561880366e-07)\n",
      "Pressao Max. (hPa): KendalltauResult(correlation=0.07442399325500289, pvalue=4.796953606756514e-18)\n",
      "Pressao Min. (hPa): KendalltauResult(correlation=0.07254996527554963, pvalue=3.1634830152178444e-17)\n",
      "Vel. Vento (m/s): KendalltauResult(correlation=0.1464366598570234, pvalue=1.9444565224951614e-64)\n",
      "Dir. Vento (m/s): KendalltauResult(correlation=-0.11899297986747152, pvalue=1.0423936977288978e-43)\n",
      "Raj. Vento (m/s): KendalltauResult(correlation=0.19997333368880002, pvalue=2.7619974205236095e-119)\n",
      "Radiacao (KJ/m²): KendalltauResult(correlation=0.6386295725642432, pvalue=0.0)\n",
      "Chuva (mm): KendalltauResult(correlation=-0.15180338061347506, pvalue=1.3139865009542712e-48)\n",
      "Potência CA (W): KendalltauResult(correlation=1.0, pvalue=0.0)\n"
     ]
    }
   ],
   "source": [
    "for i in list(df.columns):\n",
    "    print(\"{}: {}\".format(i, st.kendalltau(df[i], df['Potência CA (W)'])))"
   ]
  },
  {
   "cell_type": "markdown",
   "id": "f4035863-3e90-4667-bf52-a81152c0b3a3",
   "metadata": {},
   "source": [
    "### Análise gráfica de correlação"
   ]
  },
  {
   "cell_type": "code",
   "execution_count": 12,
   "id": "e1980b13-8f62-484e-99ce-34d45889e9b1",
   "metadata": {},
   "outputs": [
    {
     "data": {
      "text/plain": [
       "<AxesSubplot:xlabel='Hora', ylabel='Potência CA (W)'>"
      ]
     },
     "execution_count": 12,
     "metadata": {},
     "output_type": "execute_result"
    },
    {
     "data": {
      "image/png": "[encoded data removed]",
      "text/plain": [
       "<Figure size 432x288 with 1 Axes>"
      ]
     },
     "metadata": {
      "needs_background": "light"
     },
     "output_type": "display_data"
    }
   ],
   "source": [
    "sns.scatterplot(y='Potência CA (W)', x='Hora', data=df)"
   ]
  },
  {
   "cell_type": "code",
   "execution_count": 13,
   "id": "3ef61a23-2962-439b-9735-9582b3fd1ca7",
   "metadata": {},
   "outputs": [
    {
     "data": {
      "text/plain": [
       "<AxesSubplot:xlabel='Mês', ylabel='Potência CA (W)'>"
      ]
     },
     "execution_count": 13,
     "metadata": {},
     "output_type": "execute_result"
    },
    {
     "data": {
      "image/png": "[encoded data removed]",
      "text/plain": [
       "<Figure size 432x288 with 1 Axes>"
      ]
     },
     "metadata": {
      "needs_background": "light"
     },
     "output_type": "display_data"
    }
   ],
   "source": [
    "sns.scatterplot(y='Potência CA (W)', x='Mês', data=df)"
   ]
  },
  {
   "cell_type": "code",
   "execution_count": 38,
   "id": "36cd6679-7279-4995-a00a-81ea01f37632",
   "metadata": {},
   "outputs": [
    {
     "data": {
      "image/png": "[encoded data removed]",
      "text/plain": [
       "<Figure size 432x288 with 1 Axes>"
      ]
     },
     "metadata": {
      "needs_background": "light"
     },
     "output_type": "display_data"
    }
   ],
   "source": [
    "sns.scatterplot(x='Chuva (mm)', y='Potência CA (W)', data=df)\n",
    "plt.savefig('Chuva.png')"
   ]
  },
  {
   "cell_type": "code",
   "execution_count": null,
   "id": "61b18740-a60a-4c6f-89e7-37aef44a44ca",
   "metadata": {},
   "outputs": [],
   "source": [
    "# Tirar chuva=0"
   ]
  },
  {
   "cell_type": "code",
   "execution_count": null,
   "id": "bc84101b-4199-4733-b517-5082a2c08a2c",
   "metadata": {},
   "outputs": [],
   "source": []
  }
 ],
 "metadata": {
  "kernelspec": {
   "display_name": "Python 3.9.13 ('base')",
   "language": "python",
   "name": "python3"
  },
  "language_info": {
   "codemirror_mode": {
    "name": "ipython",
    "version": 3
   },
   "file_extension": ".py",
   "mimetype": "text/x-python",
   "name": "python",
   "nbconvert_exporter": "python",
   "pygments_lexer": "ipython3",
   "version": "3.9.13"
  },
  "vscode": {
   "interpreter": {
    "hash": "b0d555105557f66a9a45792b632724fc3e2f2f64eea2ec00e88d317940673588"
   }
  }
 },
 "nbformat": 4,
 "nbformat_minor": 5
}
