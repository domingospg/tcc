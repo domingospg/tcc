{
 "cells": [
  {
   "cell_type": "markdown",
   "metadata": {},
   "source": [
    "# Comparação de Modelos"
   ]
  },
  {
   "cell_type": "markdown",
   "metadata": {},
   "source": [
    "## Previsões"
   ]
  },
  {
   "cell_type": "code",
   "execution_count": 1,
   "metadata": {},
   "outputs": [],
   "source": [
    "import pandas as pd\n",
    "import numpy as np\n",
    "import matplotlib.pyplot as plt\n",
    "import seaborn as sns\n",
    "%matplotlib inline\n",
    "\n",
    "from sklearn.model_selection import train_test_split, KFold, cross_val_score\n",
    "from sklearn.preprocessing import StandardScaler\n",
    "import sklearn.metrics as metrics\n",
    "from sklearn.pipeline import Pipeline\n",
    "\n",
    "import warnings\n",
    "warnings.filterwarnings(\"ignore\")\n",
    "\n",
    "df = pd.read_csv('./dados/dados_2.csv') #Lendo os dados"
   ]
  },
  {
   "cell_type": "code",
   "execution_count": 2,
   "metadata": {},
   "outputs": [],
   "source": [
    "#Declarando as variáveis:\n",
    "X = df[['Radiacao (KJ/m²)', 'Temp. Ins. (C)', 'Umi. Ins. (%)', 'Chuva (mm)', 'Hora', 'Mês', 'Pto Orvalho Ins. (C)', 'Temp. Max. (C)',\n",
    "       'Temp. Min. (C)']]\n",
    "\n",
    "y = df['Potência CA (W)']\n",
    "\n",
    "\n",
    "#Separando em treino e teste:\n",
    "X_t, X_test, y_t, y_test = train_test_split(X, y, test_size=0.1, random_state=101) #10% dos dados são p/ teste"
   ]
  },
  {
   "cell_type": "markdown",
   "metadata": {},
   "source": [
    "### SVR"
   ]
  },
  {
   "cell_type": "code",
   "execution_count": 4,
   "metadata": {},
   "outputs": [],
   "source": [
    "from sklearn.svm import SVR\n",
    "reg = SVR(C=40, epsilon=0.1)\n",
    "\n",
    "#Normalizando os dados de entrada:\n",
    "scaler = StandardScaler()\n",
    "X_t_scaled = scaler.fit_transform(X_t)\n",
    "X_test_scaled = scaler.fit_transform(X_test)\n",
    "\n",
    "y_t_log = np.log(y_t) #Aplicando transformação log nos dados de saída\n",
    "\n",
    "#Treinando o modelo:\n",
    "reg.fit(X_t_scaled, y_t_log)\n",
    "\n",
    "#Fazendo a previsão:\n",
    "pred_log = reg.predict(X_test_scaled)\n",
    "svr = np.exp(pred_log)"
   ]
  },
  {
   "cell_type": "markdown",
   "metadata": {},
   "source": [
    "### Árvore de Decisão"
   ]
  },
  {
   "cell_type": "code",
   "execution_count": 7,
   "metadata": {},
   "outputs": [],
   "source": [
    "from sklearn.tree import DecisionTreeRegressor\n",
    "reg = DecisionTreeRegressor(min_samples_leaf=16)\n",
    "\n",
    "reg.fit(X_t, y_t)\n",
    "\n",
    "dt = reg.predict(X_test)"
   ]
  },
  {
   "cell_type": "markdown",
   "metadata": {},
   "source": [
    "### KNR"
   ]
  },
  {
   "cell_type": "code",
   "execution_count": 8,
   "metadata": {},
   "outputs": [],
   "source": [
    "from sklearn.neighbors import KNeighborsRegressor\n",
    "reg = KNeighborsRegressor(n_neighbors=9,weights='distance', p=2)\n",
    "\n",
    "#Normalizando os dados de entrada:\n",
    "scaler = StandardScaler()\n",
    "X_t_scaled = scaler.fit_transform(X_t)\n",
    "X_test_scaled = scaler.fit_transform(X_test)\n",
    "\n",
    "\n",
    "#Treinando o modelo:\n",
    "reg.fit(X_t_scaled, y_t)\n",
    "\n",
    "#Fazendo a previsão:\n",
    "knr = reg.predict(X_test_scaled)"
   ]
  },
  {
   "cell_type": "markdown",
   "metadata": {},
   "source": [
    "### RNA"
   ]
  },
  {
   "cell_type": "code",
   "execution_count": 9,
   "metadata": {},
   "outputs": [],
   "source": [
    "from sklearn.neural_network import MLPRegressor\n",
    "layers = (50,50,50,50,50)\n",
    "reg = MLPRegressor(hidden_layer_sizes = layers, activation='relu', solver='lbfgs', learning_rate='adaptive', random_state=101)\n",
    "\n",
    "#Normalizando os dados de entrada:\n",
    "scaler = StandardScaler()\n",
    "X_t_scaled = scaler.fit_transform(X_t)\n",
    "X_test_scaled = scaler.fit_transform(X_test)\n",
    "\n",
    "\n",
    "#Treinando o modelo:\n",
    "reg.fit(X_t_scaled, y_t)\n",
    "\n",
    "#Fazendo a previsão:\n",
    "rna = reg.predict(X_test_scaled)"
   ]
  },
  {
   "cell_type": "markdown",
   "metadata": {},
   "source": [
    "## Teste de Dunnett"
   ]
  },
  {
   "cell_type": "code",
   "execution_count": null,
   "metadata": {},
   "outputs": [],
   "source": []
  }
 ],
 "metadata": {
  "kernelspec": {
   "display_name": "Python 3.9.13 ('base')",
   "language": "python",
   "name": "python3"
  },
  "language_info": {
   "codemirror_mode": {
    "name": "ipython",
    "version": 3
   },
   "file_extension": ".py",
   "mimetype": "text/x-python",
   "name": "python",
   "nbconvert_exporter": "python",
   "pygments_lexer": "ipython3",
   "version": "3.9.13"
  },
  "orig_nbformat": 4,
  "vscode": {
   "interpreter": {
    "hash": "b0d555105557f66a9a45792b632724fc3e2f2f64eea2ec00e88d317940673588"
   }
  }
 },
 "nbformat": 4,
 "nbformat_minor": 2
}
