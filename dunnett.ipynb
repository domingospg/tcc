{
 "cells": [
  {
   "cell_type": "markdown",
   "metadata": {},
   "source": [
    "# Comparação de Modelos"
   ]
  },
  {
   "cell_type": "markdown",
   "metadata": {},
   "source": [
    "## Previsões"
   ]
  },
  {
   "cell_type": "code",
   "execution_count": 1,
   "metadata": {},
   "outputs": [],
   "source": [
    "import pandas as pd\n",
    "import numpy as np\n",
    "import matplotlib.pyplot as plt\n",
    "import seaborn as sns\n",
    "%matplotlib inline\n",
    "\n",
    "from sklearn.model_selection import train_test_split, KFold, cross_val_score\n",
    "from sklearn.preprocessing import StandardScaler\n",
    "import sklearn.metrics as metrics\n",
    "from sklearn.pipeline import Pipeline\n",
    "\n",
    "import warnings\n",
    "warnings.filterwarnings(\"ignore\")\n",
    "\n",
    "df = pd.read_csv('./dados/dados.csv') #Lendo os dados"
   ]
  },
  {
   "cell_type": "code",
   "execution_count": 2,
   "metadata": {},
   "outputs": [],
   "source": [
    "#Declarando as variáveis:\n",
    "X = df[['Radiacao (KJ/m²)', 'Temp. Ins. (C)', 'Umi. Ins. (%)', 'Chuva (mm)', 'Hora', 'Mês', 'Pto Orvalho Ins. (C)', 'Temp. Max. (C)',\n",
    "       'Temp. Min. (C)']]\n",
    "\n",
    "y = df['Potência CA (W)']\n",
    "\n",
    "\n",
    "#Separando em treino e teste:\n",
    "X_t, X_test, y_t, y_test = train_test_split(X, y, test_size=0.1, random_state=101) #10% dos dados são p/ teste"
   ]
  },
  {
   "cell_type": "markdown",
   "metadata": {},
   "source": [
    "### SVR"
   ]
  },
  {
   "cell_type": "code",
   "execution_count": 3,
   "metadata": {},
   "outputs": [],
   "source": [
    "from sklearn.svm import SVR\n",
    "reg = SVR(C=40, epsilon=0.1)\n",
    "\n",
    "#Normalizando os dados de entrada:\n",
    "scaler = StandardScaler()\n",
    "X_t_scaled = scaler.fit_transform(X_t)\n",
    "X_test_scaled = scaler.fit_transform(X_test)\n",
    "\n",
    "y_t_log = np.log(y_t) #Aplicando transformação log nos dados de saída\n",
    "\n",
    "#Treinando o modelo:\n",
    "reg.fit(X_t_scaled, y_t_log)\n",
    "\n",
    "#Fazendo a previsão:\n",
    "pred_log = reg.predict(X_test_scaled)\n",
    "svr = np.exp(pred_log)"
   ]
  },
  {
   "cell_type": "markdown",
   "metadata": {},
   "source": [
    "### Árvore de Decisão"
   ]
  },
  {
   "cell_type": "code",
   "execution_count": 4,
   "metadata": {},
   "outputs": [],
   "source": [
    "from sklearn.tree import DecisionTreeRegressor\n",
    "reg = DecisionTreeRegressor(min_samples_leaf=16)\n",
    "\n",
    "reg.fit(X_t, y_t)\n",
    "\n",
    "dt = reg.predict(X_test)"
   ]
  },
  {
   "cell_type": "markdown",
   "metadata": {},
   "source": [
    "### KNR"
   ]
  },
  {
   "cell_type": "code",
   "execution_count": 5,
   "metadata": {},
   "outputs": [],
   "source": [
    "from sklearn.neighbors import KNeighborsRegressor\n",
    "reg = KNeighborsRegressor(n_neighbors=9,weights='distance', p=2)\n",
    "\n",
    "#Normalizando os dados de entrada:\n",
    "scaler = StandardScaler()\n",
    "X_t_scaled = scaler.fit_transform(X_t)\n",
    "X_test_scaled = scaler.fit_transform(X_test)\n",
    "\n",
    "\n",
    "#Treinando o modelo:\n",
    "reg.fit(X_t_scaled, y_t)\n",
    "\n",
    "#Fazendo a previsão:\n",
    "knr = reg.predict(X_test_scaled)"
   ]
  },
  {
   "cell_type": "markdown",
   "metadata": {},
   "source": [
    "### RNA"
   ]
  },
  {
   "cell_type": "code",
   "execution_count": 6,
   "metadata": {},
   "outputs": [],
   "source": [
    "from sklearn.neural_network import MLPRegressor\n",
    "layers = (50,50,50,50,50)\n",
    "reg = MLPRegressor(hidden_layer_sizes = layers, activation='relu', solver='lbfgs', learning_rate='adaptive', random_state=101)\n",
    "\n",
    "#Normalizando os dados de entrada:\n",
    "scaler = StandardScaler()\n",
    "X_t_scaled = scaler.fit_transform(X_t)\n",
    "X_test_scaled = scaler.fit_transform(X_test)\n",
    "\n",
    "\n",
    "#Treinando o modelo:\n",
    "reg.fit(X_t_scaled, y_t)\n",
    "\n",
    "#Fazendo a previsão:\n",
    "rna = reg.predict(X_test_scaled)"
   ]
  },
  {
   "cell_type": "markdown",
   "metadata": {},
   "source": [
    "## Teste de Dunnett"
   ]
  },
  {
   "cell_type": "code",
   "execution_count": 16,
   "metadata": {},
   "outputs": [
    {
     "name": "stdout",
     "output_type": "stream",
     "text": [
      "648228.9142007054\n"
     ]
    }
   ],
   "source": [
    "a=5\n",
    "b=len(y_test)\n",
    "\n",
    "tot_y_test = sum(y_test)\n",
    "tot_svr = sum(svr)\n",
    "tot_dt = sum(dt)\n",
    "tot_knr = sum(knr)\n",
    "tot_rna = sum(rna)\n",
    "\n",
    "soma = tot_y_test + tot_svr + tot_dt + tot_knr + tot_rna\n",
    "somaQ = sum(y_test**2) + sum(svr**2) + sum(dt**2) + sum(knr**2) + sum(rna**2)\n",
    "\n",
    "SQtotal = somaQ-((soma**2)/(a*b))\n",
    "\n",
    "SQtrat = ((tot_y_test**2 + tot_svr**2 + tot_dt**2 + tot_knr**2 + tot_rna**2)/b) - (soma**2/(a*b))\n",
    "\n",
    "SQres = SQtotal - SQtrat\n",
    "\n",
    "QM = SQres/(a*(b-1))"
   ]
  },
  {
   "cell_type": "code",
   "execution_count": 17,
   "metadata": {},
   "outputs": [
    {
     "name": "stdout",
     "output_type": "stream",
     "text": [
      "112.95060064975534\n"
     ]
    }
   ],
   "source": [
    "DMS = 2.442*np.sqrt((2*QM)/(b))\n",
    "\n",
    "print(DMS)"
   ]
  },
  {
   "cell_type": "code",
   "execution_count": 23,
   "metadata": {},
   "outputs": [
    {
     "name": "stdout",
     "output_type": "stream",
     "text": [
      "Support Vector Regression:  1.9624248529853503\n",
      "Árvore de Decisão:  3.5161408602141364\n",
      "KNeighbors Regressor:  28.718521446338627\n",
      "Rede Neural:  13.244452221988695\n"
     ]
    }
   ],
   "source": [
    "print('Support Vector Regression: ', np.mean(y_test) - np.mean(svr))\n",
    "\n",
    "print('Árvore de Decisão: ', np.mean(y_test) - np.mean(dt))\n",
    "\n",
    "print('KNeighbors Regressor: ', np.mean(y_test) - np.mean(knr))\n",
    "\n",
    "print('Rede Neural: ', np.mean(y_test) - np.mean(rna))"
   ]
  },
  {
   "cell_type": "markdown",
   "metadata": {},
   "source": [
    "Todos as diferenças são menores do que o DMS, portanto pode-se dizer que não há diferença significativa entre as médias."
   ]
  }
 ],
 "metadata": {
  "kernelspec": {
   "display_name": "Python 3.9.13 ('base')",
   "language": "python",
   "name": "python3"
  },
  "language_info": {
   "codemirror_mode": {
    "name": "ipython",
    "version": 3
   },
   "file_extension": ".py",
   "mimetype": "text/x-python",
   "name": "python",
   "nbconvert_exporter": "python",
   "pygments_lexer": "ipython3",
   "version": "3.9.13"
  },
  "orig_nbformat": 4,
  "vscode": {
   "interpreter": {
    "hash": "b0d555105557f66a9a45792b632724fc3e2f2f64eea2ec00e88d317940673588"
   }
  }
 },
 "nbformat": 4,
 "nbformat_minor": 2
}
